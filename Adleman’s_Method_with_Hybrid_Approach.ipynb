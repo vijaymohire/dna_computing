{
  "nbformat": 4,
  "nbformat_minor": 0,
  "metadata": {
    "colab": {
      "provenance": []
    },
    "kernelspec": {
      "name": "python3",
      "display_name": "Python 3"
    },
    "language_info": {
      "name": "python"
    }
  },
  "cells": [
    {
      "cell_type": "markdown",
      "source": [
        "# **Adleman’s Method with Hybrid Approach**\n",
        "\n",
        "This example demonstrates solving the Hamiltonian Path Problem (NP-Complete) using DNA for path enumeration and a quantum-inspired filter for verification.\n",
        "\n",
        "1. Path Enumeration: DNA generates all paths in the Hamiltonian graph (equivalent to DNA's combinatorial computation power).\n",
        "2. Filtering: A quantum-inspired step filters paths based on a condition (e.g., valid Hamiltonian paths).\n",
        "3. Communication: DNA outputs paths, and quantum-inspired filters refine the results"
      ],
      "metadata": {
        "id": "OyD-YDnLSxOl"
      }
    },
    {
      "cell_type": "code",
      "execution_count": 1,
      "metadata": {
        "colab": {
          "base_uri": "https://localhost:8080/"
        },
        "id": "qMZ5yKe9SgAP",
        "outputId": "1d179090-4e33-4365-88cc-fc68024a5711"
      },
      "outputs": [
        {
          "output_type": "stream",
          "name": "stdout",
          "text": [
            "DNA-Generated Paths: ['Path_1', 'Path_2', 'Path_3']\n",
            "Filtered Paths: []\n"
          ]
        }
      ],
      "source": [
        "# DNA Step: Generate Paths\n",
        "def generate_paths(nodes):\n",
        "    # Encode nodes into DNA strands\n",
        "    dna_paths = [f\"Path_{i}\" for i in range(1, len(nodes) + 1)]\n",
        "    return dna_paths\n",
        "\n",
        "# Quantum-Inspired Filtering\n",
        "def filter_paths(paths, condition):\n",
        "    # Simulate quantum filtering: Keep paths satisfying the condition\n",
        "    valid_paths = [path for path in paths if condition(path)]\n",
        "    return valid_paths\n",
        "\n",
        "# Example: Hamiltonian Path Problem\n",
        "nodes = [\"A\", \"B\", \"C\"]\n",
        "dna_encoded_paths = generate_paths(nodes)  # Step 1: DNA computes all possible paths\n",
        "print(\"DNA-Generated Paths:\", dna_encoded_paths)\n",
        "\n",
        "# Define a condition: Path length must match node count (simplified example)\n",
        "condition = lambda path: len(path.split('_')) == len(nodes)\n",
        "filtered_paths = filter_paths(dna_encoded_paths, condition)  # Step 2: Quantum-inspired filter\n",
        "print(\"Filtered Paths:\", filtered_paths)\n"
      ]
    },
    {
      "cell_type": "markdown",
      "source": [
        "# **Idea and execution by, Bhadale IT**"
      ],
      "metadata": {
        "id": "rUqYq8rhTJZ7"
      }
    }
  ]
}